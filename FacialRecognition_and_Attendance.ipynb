{
 "cells": [
  {
   "cell_type": "markdown",
   "id": "c5b144db",
   "metadata": {},
   "source": [
    "# Facial Recognition and Attendance"
   ]
  },
  {
   "cell_type": "code",
   "execution_count": 1,
   "id": "3d9dc4b7",
   "metadata": {},
   "outputs": [],
   "source": [
    "#importing libraries\n",
    "import cv2\n",
    "import numpy as np\n",
    "import face_recognition\n",
    "import os\n",
    "from datetime import datetime"
   ]
  },
  {
   "cell_type": "code",
   "execution_count": 2,
   "id": "3c2aec36",
   "metadata": {},
   "outputs": [],
   "source": [
    "# path to the folder which contains images of cricketers\n",
    "path = 'ImagesCricketers'"
   ]
  },
  {
   "cell_type": "code",
   "execution_count": 3,
   "id": "d5cf16b9",
   "metadata": {},
   "outputs": [],
   "source": [
    "# Initialising 2 lists which will be used to store images and names respectively\n",
    "images = []\n",
    "names = []"
   ]
  },
  {
   "cell_type": "code",
   "execution_count": 4,
   "id": "955ebdb0",
   "metadata": {},
   "outputs": [],
   "source": [
    "# list of names of images in the folder described by the path\n",
    "lis = os.listdir(path)"
   ]
  },
  {
   "cell_type": "code",
   "execution_count": 5,
   "id": "ec18433e",
   "metadata": {},
   "outputs": [],
   "source": [
    "# Reading images and appending them in images(list) and appending their names in names(list) \n",
    "for name in lis:\n",
    "    current = cv2.imread(f'{path}/{name}')\n",
    "    images.append(current)\n",
    "    names.append(os.path.splitext(name)[0])"
   ]
  },
  {
   "cell_type": "code",
   "execution_count": 6,
   "id": "de066352",
   "metadata": {},
   "outputs": [],
   "source": [
    "# This function returns a list of encodings of images\n",
    "def Encode(images):\n",
    "    encode_list = []\n",
    "    for i in images:\n",
    "        i = cv2.cvtColor(i,cv2.COLOR_BGR2RGB)\n",
    "        encoded_image = face_recognition.face_encodings(i)[0]\n",
    "        encode_list.append(encoded_image)\n",
    "    return encode_list"
   ]
  },
  {
   "cell_type": "code",
   "execution_count": 7,
   "id": "1d3e50e0",
   "metadata": {},
   "outputs": [],
   "source": [
    "# This function marks the attendance by taking name as argument.\n",
    "# The name of the attendant and time is written in the file named \"attendance.csv\"\n",
    "def mark_attendance(name):\n",
    "    with open('attendance.csv','r+') as f:\n",
    "        already_list = f.readlines()\n",
    "        name_list = []\n",
    "        for line in already_list:\n",
    "            entry = line.split(',')\n",
    "            name_list.append(entry[0])\n",
    "        if name not in name_list:\n",
    "            present =datetime.now()\n",
    "            dtString = present.strftime('%H:%M:%S')\n",
    "            f.writelines(f'\\n{name},{dtString}')"
   ]
  },
  {
   "cell_type": "code",
   "execution_count": 8,
   "id": "7ae8660f",
   "metadata": {},
   "outputs": [],
   "source": [
    "known_encoded = Encode(images) "
   ]
  },
  {
   "cell_type": "code",
   "execution_count": 9,
   "id": "4b1b4d98",
   "metadata": {},
   "outputs": [],
   "source": [
    "# Start capturing\n",
    "capture = cv2.VideoCapture(0)"
   ]
  },
  {
   "cell_type": "code",
   "execution_count": null,
   "id": "9de47849",
   "metadata": {},
   "outputs": [],
   "source": [
    "# Image is read and is matched with the images in the folder\n",
    "# The image in the folder which matches to the image taken by web camera is identified and the attendance is marked\n",
    "\n",
    "while True:\n",
    "    success,image = capture.read()\n",
    "    imageSmall = cv2.resize(image,(0,0),None,0.25,0.25)\n",
    "    imageSmall = cv2.cvtColor(imageSmall,cv2.COLOR_BGR2RGB)\n",
    "    Current_frame_faces = face_recognition.face_locations(imageSmall)\n",
    "    Current_frame_encodes = face_recognition.face_encodings(imageSmall,Current_frame_faces)\n",
    "    \n",
    "    \n",
    "    for encode,loc in zip(Current_frame_encodes,Current_frame_faces):\n",
    "        matches = face_recognition.compare_faces(known_encoded,encode)\n",
    "        faceDistance = face_recognition.face_distance(known_encoded,encode)\n",
    "        indexMatched = np.argmin(faceDistance)\n",
    "        \n",
    "        if matches[indexMatched]:\n",
    "            identifiedName = names[indexMatched]\n",
    "            y1,x2,y2,x1 = loc\n",
    "            y1,x2,y2,x1 = y1*4,x2*4,y2*4,x1*4\n",
    "            cv2.rectangle(image,(x1,y1),(x2,y2),(0,255,0),2)\n",
    "            cv2.rectangle(image,(x1,y2-35),(x2,y2),(0,255,0),cv2.FILLED)\n",
    "            cv2.putText(image,identifiedName,(x1+6,y2-6),cv2.FONT_HERSHEY_PLAIN,1,(255,255,255),2)\n",
    "            mark_attendance(identifiedName)\n",
    "#             print(identifiedName)\n",
    "            \n",
    "    cv2.imshow('webcam',image)\n",
    "    cv2.waitKey(1)\n",
    "            "
   ]
  }
 ],
 "metadata": {
  "kernelspec": {
   "display_name": "Python 3",
   "language": "python",
   "name": "python3"
  },
  "language_info": {
   "codemirror_mode": {
    "name": "ipython",
    "version": 3
   },
   "file_extension": ".py",
   "mimetype": "text/x-python",
   "name": "python",
   "nbconvert_exporter": "python",
   "pygments_lexer": "ipython3",
   "version": "3.9.5"
  }
 },
 "nbformat": 4,
 "nbformat_minor": 5
}
